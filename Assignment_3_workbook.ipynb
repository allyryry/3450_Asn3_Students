{
 "cells": [
  {
   "cell_type": "code",
   "execution_count": 2,
   "metadata": {},
   "outputs": [],
   "source": [
    "import thinkplot\n",
    "import thinkstats2\n",
    "import pandas as pd\n",
    "import numpy as np\n",
    "from sklearn.metrics import mean_squared_error\n",
    "import scipy.stats as ss\n",
    "from ipywidgets import interact, interactive, fixed\n",
    "import ipywidgets as widgets\n",
    "from zipfile import ZipFile\n",
    "import fractions\n",
    "\n",
    "##Seaborn for fancy plots. \n",
    "import matplotlib.pyplot as plt\n",
    "import seaborn as sns\n",
    "plt.rcParams[\"figure.figsize\"] = (8,8)"
   ]
  },
  {
   "cell_type": "code",
   "execution_count": 3,
   "metadata": {},
   "outputs": [
    {
     "data": {
      "text/html": [
       "<div>\n",
       "<style scoped>\n",
       "    .dataframe tbody tr th:only-of-type {\n",
       "        vertical-align: middle;\n",
       "    }\n",
       "\n",
       "    .dataframe tbody tr th {\n",
       "        vertical-align: top;\n",
       "    }\n",
       "\n",
       "    .dataframe thead th {\n",
       "        text-align: right;\n",
       "    }\n",
       "</style>\n",
       "<table border=\"1\" class=\"dataframe\">\n",
       "  <thead>\n",
       "    <tr style=\"text-align: right;\">\n",
       "      <th></th>\n",
       "      <th>race/ethnicity</th>\n",
       "      <th>parental level of education</th>\n",
       "      <th>lunch</th>\n",
       "      <th>test preparation course</th>\n",
       "      <th>math percentage</th>\n",
       "      <th>reading score percentage</th>\n",
       "      <th>writing score percentage</th>\n",
       "      <th>sex</th>\n",
       "    </tr>\n",
       "  </thead>\n",
       "  <tbody>\n",
       "    <tr>\n",
       "      <th>0</th>\n",
       "      <td>group B</td>\n",
       "      <td>bachelor's degree</td>\n",
       "      <td>standard</td>\n",
       "      <td>none</td>\n",
       "      <td>0.72</td>\n",
       "      <td>0.72</td>\n",
       "      <td>0.74</td>\n",
       "      <td>F</td>\n",
       "    </tr>\n",
       "    <tr>\n",
       "      <th>1</th>\n",
       "      <td>group C</td>\n",
       "      <td>some college</td>\n",
       "      <td>standard</td>\n",
       "      <td>completed</td>\n",
       "      <td>0.69</td>\n",
       "      <td>0.90</td>\n",
       "      <td>0.88</td>\n",
       "      <td>F</td>\n",
       "    </tr>\n",
       "    <tr>\n",
       "      <th>2</th>\n",
       "      <td>group B</td>\n",
       "      <td>master's degree</td>\n",
       "      <td>standard</td>\n",
       "      <td>none</td>\n",
       "      <td>0.90</td>\n",
       "      <td>0.95</td>\n",
       "      <td>0.93</td>\n",
       "      <td>F</td>\n",
       "    </tr>\n",
       "    <tr>\n",
       "      <th>3</th>\n",
       "      <td>group A</td>\n",
       "      <td>associate's degree</td>\n",
       "      <td>free/reduced</td>\n",
       "      <td>none</td>\n",
       "      <td>0.47</td>\n",
       "      <td>0.57</td>\n",
       "      <td>0.44</td>\n",
       "      <td>M</td>\n",
       "    </tr>\n",
       "    <tr>\n",
       "      <th>4</th>\n",
       "      <td>group C</td>\n",
       "      <td>some college</td>\n",
       "      <td>standard</td>\n",
       "      <td>none</td>\n",
       "      <td>0.76</td>\n",
       "      <td>0.78</td>\n",
       "      <td>0.75</td>\n",
       "      <td>M</td>\n",
       "    </tr>\n",
       "    <tr>\n",
       "      <th>5</th>\n",
       "      <td>group B</td>\n",
       "      <td>associate's degree</td>\n",
       "      <td>standard</td>\n",
       "      <td>none</td>\n",
       "      <td>0.71</td>\n",
       "      <td>0.83</td>\n",
       "      <td>0.78</td>\n",
       "      <td>F</td>\n",
       "    </tr>\n",
       "    <tr>\n",
       "      <th>6</th>\n",
       "      <td>group B</td>\n",
       "      <td>some college</td>\n",
       "      <td>standard</td>\n",
       "      <td>completed</td>\n",
       "      <td>0.88</td>\n",
       "      <td>0.95</td>\n",
       "      <td>0.92</td>\n",
       "      <td>F</td>\n",
       "    </tr>\n",
       "  </tbody>\n",
       "</table>\n",
       "</div>"
      ],
      "text/plain": [
       "  race/ethnicity parental level of education         lunch  \\\n",
       "0        group B           bachelor's degree      standard   \n",
       "1        group C                some college      standard   \n",
       "2        group B             master's degree      standard   \n",
       "3        group A          associate's degree  free/reduced   \n",
       "4        group C                some college      standard   \n",
       "5        group B          associate's degree      standard   \n",
       "6        group B                some college      standard   \n",
       "\n",
       "  test preparation course  math percentage  reading score percentage  \\\n",
       "0                    none             0.72                      0.72   \n",
       "1               completed             0.69                      0.90   \n",
       "2                    none             0.90                      0.95   \n",
       "3                    none             0.47                      0.57   \n",
       "4                    none             0.76                      0.78   \n",
       "5                    none             0.71                      0.83   \n",
       "6               completed             0.88                      0.95   \n",
       "\n",
       "   writing score percentage sex  \n",
       "0                      0.74   F  \n",
       "1                      0.88   F  \n",
       "2                      0.93   F  \n",
       "3                      0.44   M  \n",
       "4                      0.75   M  \n",
       "5                      0.78   F  \n",
       "6                      0.92   F  "
      ]
     },
     "execution_count": 3,
     "metadata": {},
     "output_type": "execute_result"
    }
   ],
   "source": [
    "#Load data - please don't change this part. \n",
    "df = pd.read_csv(\"Student Performance new.csv\")\n",
    "df.drop(columns={\"Unnamed: 0\"}, inplace=True)\n",
    "df.head(7)"
   ]
  },
  {
   "cell_type": "markdown",
   "metadata": {},
   "source": [
    "<h1>Part 1: Is There a Significant Difference Between Boys and Girls in Math? (10 pts) </h1>\n",
    "\n",
    "Investigate and justify your answer. You should show 'a few' pieces of evidence to bolster your conclusion. Use your judgement on what makes a good piece of evidence.\n",
    "\n",
    "Please format your justifications in a:\n",
    "<ul>\n",
    "<li>List\n",
    "<li>of\n",
    "<li>points.\n",
    "</ul>"
   ]
  },
  {
   "cell_type": "code",
   "execution_count": 4,
   "metadata": {},
   "outputs": [
    {
     "name": "stdout",
     "output_type": "stream",
     "text": [
      "Male mean:  0.6872821576763488\n",
      "Female mean:  0.636332046332046\n"
     ]
    }
   ],
   "source": [
    "#Difference in math\n",
    "f = df[df['sex']== 'F']\n",
    "m = df[df['sex']== 'M']\n",
    "print('Male mean: ', m['math percentage'].mean())\n",
    "print('Female mean: ', f['math percentage'].mean())"
   ]
  },
  {
   "cell_type": "code",
   "execution_count": 5,
   "metadata": {},
   "outputs": [
    {
     "name": "stdout",
     "output_type": "stream",
     "text": [
      "Females\n",
      "count    518.000000\n",
      "mean       0.636332\n",
      "std        0.154915\n",
      "min        0.000000\n",
      "25%        0.540000\n",
      "50%        0.650000\n",
      "75%        0.740000\n",
      "max        1.000000\n",
      "Name: math percentage, dtype: float64\n",
      "Males\n",
      "count    482.000000\n",
      "mean       0.687282\n",
      "std        0.143563\n",
      "min        0.270000\n",
      "25%        0.590000\n",
      "50%        0.690000\n",
      "75%        0.790000\n",
      "max        1.000000\n",
      "Name: math percentage, dtype: float64\n"
     ]
    }
   ],
   "source": [
    "print('Females')\n",
    "print(f['math percentage'].describe())\n",
    "print('Males')\n",
    "print(m['math percentage'].describe())"
   ]
  },
  {
   "cell_type": "code",
   "execution_count": 6,
   "metadata": {},
   "outputs": [
    {
     "name": "stderr",
     "output_type": "stream",
     "text": [
      "C:\\Users\\allyr\\anaconda3\\lib\\site-packages\\seaborn\\distributions.py:2557: FutureWarning: `distplot` is a deprecated function and will be removed in a future version. Please adapt your code to use either `displot` (a figure-level function with similar flexibility) or `histplot` (an axes-level function for histograms).\n",
      "  warnings.warn(msg, FutureWarning)\n",
      "C:\\Users\\allyr\\anaconda3\\lib\\site-packages\\seaborn\\distributions.py:2557: FutureWarning: `distplot` is a deprecated function and will be removed in a future version. Please adapt your code to use either `displot` (a figure-level function with similar flexibility) or `histplot` (an axes-level function for histograms).\n",
      "  warnings.warn(msg, FutureWarning)\n"
     ]
    },
    {
     "data": {
      "image/png": "[encoded data removed]",
      "text/plain": [
       "<Figure size 576x576 with 1 Axes>"
      ]
     },
     "metadata": {
      "needs_background": "light"
     },
     "output_type": "display_data"
    }
   ],
   "source": [
    "sns.distplot(m['math percentage'], color='black', label='Males')\n",
    "sns.distplot(f['math percentage'], color='purple', label='Females')\n",
    "thinkplot.Config()\n",
    "plt.title('Math Percentages', color='purple')\n",
    "plt.show()"
   ]
  },
  {
   "cell_type": "markdown",
   "metadata": {},
   "source": [
    "<h2>Comparison of male to female math scores </h2>\n",
    "\n",
    "\n",
    "<li> Generally, male scores are 4% higher than females scores. This is show in the 25%, 50%, and 75% scores above. \n",
    "<li> there are more girls than boys.\n",
    "<li> Males have a min of 0 and females have a min of 27%\n",
    "Overall, I would say there is not a significant difference. If the number were higher than 4% then there would be. "
   ]
  },
  {
   "cell_type": "markdown",
   "metadata": {},
   "source": [
    "<h1>Part 2: Is there a difference in math performance depending on Parental Education (15 pts)</h1>\n",
    "\n",
    "Investigate and justify your answer. You should show 'a few' pieces of evidence to bolster your conclusion."
   ]
  },
  {
   "cell_type": "code",
   "execution_count": 7,
   "metadata": {},
   "outputs": [
    {
     "data": {
      "text/plain": [
       "some college          226\n",
       "associate's degree    222\n",
       "high school           196\n",
       "some high school      179\n",
       "bachelor's degree     118\n",
       "master's degree        59\n",
       "Name: parental level of education, dtype: int64"
      ]
     },
     "execution_count": 7,
     "metadata": {},
     "output_type": "execute_result"
    }
   ],
   "source": [
    "#Differnce in math\n",
    "df[\"parental level of education\"].value_counts().sort_values(ascending=False)"
   ]
  },
  {
   "cell_type": "code",
   "execution_count": 8,
   "metadata": {},
   "outputs": [
    {
     "name": "stdout",
     "output_type": "stream",
     "text": [
      "Some High School: count    179.000000\n",
      "mean       0.634972\n",
      "std        0.159280\n",
      "min        0.000000\n",
      "25%        0.530000\n",
      "50%        0.650000\n",
      "75%        0.740000\n",
      "max        0.970000\n",
      "Name: math percentage, dtype: float64\n",
      "High School: count    196.000000\n",
      "mean       0.621378\n",
      "std        0.145397\n",
      "min        0.080000\n",
      "25%        0.537500\n",
      "50%        0.630000\n",
      "75%        0.720000\n",
      "max        0.990000\n",
      "Name: math percentage, dtype: float64\n",
      "Some College: count    226.000000\n",
      "mean       0.671283\n",
      "std        0.143129\n",
      "min        0.190000\n",
      "25%        0.590000\n",
      "50%        0.675000\n",
      "75%        0.760000\n",
      "max        1.000000\n",
      "Name: math percentage, dtype: float64\n",
      "Associate's: count    222.000000\n",
      "mean       0.678829\n",
      "std        0.151121\n",
      "min        0.260000\n",
      "25%        0.570000\n",
      "50%        0.670000\n",
      "75%        0.800000\n",
      "max        1.000000\n",
      "Name: math percentage, dtype: float64\n",
      "Bachelor: count    118.000000\n",
      "mean       0.693898\n",
      "std        0.149438\n",
      "min        0.290000\n",
      "25%        0.610000\n",
      "50%        0.680000\n",
      "75%        0.790000\n",
      "max        1.000000\n",
      "Name: math percentage, dtype: float64\n",
      "Master Degree: count    59.000000\n",
      "mean      0.697458\n",
      "std       0.151539\n",
      "min       0.400000\n",
      "25%       0.555000\n",
      "50%       0.730000\n",
      "75%       0.810000\n",
      "max       0.950000\n",
      "Name: math percentage, dtype: float64\n"
     ]
    }
   ],
   "source": [
    "some_hs = df[df['parental level of education'] == 'some high school']\n",
    "hs = df[df['parental level of education'] == 'high school']\n",
    "some_college = df[df['parental level of education'] == 'some college']\n",
    "associate = df[df['parental level of education'] == \"associate's degree\"]\n",
    "bach = df[df['parental level of education'] == \"bachelor's degree\"]\n",
    "master = df[df['parental level of education'] == \"master's degree\"]\n",
    "\n",
    "print(\"Some High School:\",some_hs['math percentage'].describe())\n",
    "print(\"High School:\",hs['math percentage'].describe())\n",
    "print(\"Some College:\",some_college['math percentage'].describe())\n",
    "print(\"Associate's:\",associate['math percentage'].describe())\n",
    "print(\"Bachelor:\",bach['math percentage'].describe())\n",
    "print(\"Master Degree:\",master['math percentage'].describe())"
   ]
  },
  {
   "cell_type": "code",
   "execution_count": 9,
   "metadata": {},
   "outputs": [
    {
     "name": "stdout",
     "output_type": "stream",
     "text": [
      "5/8\n",
      "0.625\n"
     ]
    }
   ],
   "source": [
    "print(fractions.Fraction(len(some_college+associate+bach+master)/len(df)))\n",
    "print((len(some_college+associate+bach+master)/len(df)))"
   ]
  },
  {
   "cell_type": "markdown",
   "metadata": {},
   "source": [
    "Parental educations effect on math percentages\n",
    "<li> there is about a 5% difference in means between parents that have not finished high school and ones that have master's degrees\n",
    "<li> More notably, the median between those same categories has a difference of 8%.\n",
    "<li> The min's also go up incrementally depending on parental education level (eg. min for 'some high school' is 0% and min for 'master's degree' is 40%)\n",
    "<li> The categories with the highest maxes are 'some college', 'associate's degree', and 'bachelor's degree.' All 3 have kids with 100%. Where master degree's max is 95%.\n",
    "<li> 62.5% of parents have been to college. \n",
    "<li> Overall, I would say that parental education does affect math percentages. This could be because parents that have been to college find it easier to help their children with their math homework. "
   ]
  },
  {
   "cell_type": "markdown",
   "metadata": {},
   "source": [
    "<h1>What appears to be the best predictor of writing performance? (10pts)</h1>\n",
    "\n",
    "Justify your answer with about 2-3 sentences. Please also show the analysis that you did to draw your conclusion. There are multiple ways that you could come to a conclusion. "
   ]
  },
  {
   "cell_type": "code",
   "execution_count": 10,
   "metadata": {},
   "outputs": [
    {
     "data": {
      "text/plain": [
       "none         642\n",
       "completed    358\n",
       "Name: test preparation course, dtype: int64"
      ]
     },
     "execution_count": 10,
     "metadata": {},
     "output_type": "execute_result"
    }
   ],
   "source": [
    "df['test preparation course'].value_counts()"
   ]
  },
  {
   "cell_type": "code",
   "execution_count": 11,
   "metadata": {},
   "outputs": [
    {
     "data": {
      "text/plain": [
       "standard        645\n",
       "free/reduced    355\n",
       "Name: lunch, dtype: int64"
      ]
     },
     "execution_count": 11,
     "metadata": {},
     "output_type": "execute_result"
    }
   ],
   "source": [
    "df['lunch'].value_counts()"
   ]
  },
  {
   "cell_type": "code",
   "execution_count": 12,
   "metadata": {},
   "outputs": [],
   "source": [
    "df['lunch']=(df['lunch']=='standard').astype(int)"
   ]
  },
  {
   "cell_type": "code",
   "execution_count": 13,
   "metadata": {},
   "outputs": [
    {
     "data": {
      "text/plain": [
       "1    645\n",
       "0    355\n",
       "Name: lunch, dtype: int64"
      ]
     },
     "execution_count": 13,
     "metadata": {},
     "output_type": "execute_result"
    }
   ],
   "source": [
    "#true is standard, false is reduced\n",
    "df['lunch'].value_counts()"
   ]
  },
  {
   "cell_type": "code",
   "execution_count": 14,
   "metadata": {},
   "outputs": [],
   "source": [
    "df['test preparation course']=(df['test preparation course']=='completed').astype(int)"
   ]
  },
  {
   "cell_type": "code",
   "execution_count": 15,
   "metadata": {},
   "outputs": [
    {
     "data": {
      "text/plain": [
       "0    642\n",
       "1    358\n",
       "Name: test preparation course, dtype: int64"
      ]
     },
     "execution_count": 15,
     "metadata": {},
     "output_type": "execute_result"
    }
   ],
   "source": [
    "df['test preparation course'].value_counts()"
   ]
  },
  {
   "cell_type": "code",
   "execution_count": 16,
   "metadata": {},
   "outputs": [],
   "source": [
    "def CohenEffectSize(group1, group2):\n",
    "    \"\"\"Compute Cohen's d.\n",
    "\n",
    "    group1: Series or NumPy array\n",
    "    group2: Series or NumPy array\n",
    "\n",
    "    returns: float\n",
    "    \"\"\"\n",
    "    diff = group1.mean() - group2.mean()\n",
    "\n",
    "    n1, n2 = len(group1), len(group2)\n",
    "    var1 = group1.var()\n",
    "    var2 = group2.var()\n",
    "\n",
    "    pooled_var = (n1 * var1 + n2 * var2) / (n1 + n2)\n",
    "    d = diff / np.sqrt(pooled_var)\n",
    "    return d\n"
   ]
  },
  {
   "cell_type": "code",
   "execution_count": 17,
   "metadata": {},
   "outputs": [
    {
     "name": "stdout",
     "output_type": "stream",
     "text": [
      "Test Prep: 0.24178043354875145\n",
      "Lunch: 0.2295603216622809\n",
      "Lunch CES: 0.13192193337054384\n",
      "Test Prep CES: 0.9412187279518679\n"
     ]
    }
   ],
   "source": [
    "print('Test Prep:',thinkstats2.Corr(df[\"reading score percentage\"], df[\"test preparation course\"]))\n",
    "print('Lunch:',thinkstats2.Corr(df[\"reading score percentage\"], df[\"lunch\"]))\n",
    "\n",
    "print('Lunch CES:', CohenEffectSize(df['reading score percentage'], df['lunch']))\n",
    "print('Test Prep CES:', CohenEffectSize(df['reading score percentage'], df['test preparation course']))\n"
   ]
  },
  {
   "cell_type": "code",
   "execution_count": 18,
   "metadata": {},
   "outputs": [
    {
     "name": "stdout",
     "output_type": "stream",
     "text": [
      "Some High School: count    179.000000\n",
      "mean       0.669385\n",
      "std        0.154793\n",
      "min        0.170000\n",
      "25%        0.565000\n",
      "50%        0.670000\n",
      "75%        0.790000\n",
      "max        1.000000\n",
      "Name: reading score percentage, dtype: float64\n",
      "High School: count    196.000000\n",
      "mean       0.647041\n",
      "std        0.141321\n",
      "min        0.240000\n",
      "25%        0.540000\n",
      "50%        0.660000\n",
      "75%        0.742500\n",
      "max        0.990000\n",
      "Name: reading score percentage, dtype: float64\n",
      "Some College: count    226.000000\n",
      "mean       0.694602\n",
      "std        0.140570\n",
      "min        0.230000\n",
      "25%        0.600000\n",
      "50%        0.705000\n",
      "75%        0.797500\n",
      "max        1.000000\n",
      "Name: reading score percentage, dtype: float64\n",
      "Associate's: count    222.000000\n",
      "mean       0.709279\n",
      "std        0.138689\n",
      "min        0.310000\n",
      "25%        0.610000\n",
      "50%        0.725000\n",
      "75%        0.810000\n",
      "max        1.000000\n",
      "Name: reading score percentage, dtype: float64\n",
      "Bachelor: count    118.000000\n",
      "mean       0.730000\n",
      "std        0.142853\n",
      "min        0.410000\n",
      "25%        0.630000\n",
      "50%        0.730000\n",
      "75%        0.827500\n",
      "max        1.000000\n",
      "Name: reading score percentage, dtype: float64\n",
      "Master Degree: count    59.000000\n",
      "mean      0.753729\n",
      "std       0.137752\n",
      "min       0.420000\n",
      "25%       0.655000\n",
      "50%       0.760000\n",
      "75%       0.845000\n",
      "max       1.000000\n",
      "Name: reading score percentage, dtype: float64\n"
     ]
    }
   ],
   "source": [
    "print(\"Some High School:\",some_hs['reading score percentage'].describe())\n",
    "print(\"High School:\",hs['reading score percentage'].describe())\n",
    "print(\"Some College:\",some_college['reading score percentage'].describe())\n",
    "print(\"Associate's:\",associate['reading score percentage'].describe())\n",
    "print(\"Bachelor:\",bach['reading score percentage'].describe())\n",
    "print(\"Master Degree:\",master['reading score percentage'].describe())"
   ]
  },
  {
   "cell_type": "code",
   "execution_count": 19,
   "metadata": {},
   "outputs": [
    {
     "data": {
      "image/png": "[encoded data removed]",
      "text/plain": [
       "<Figure size 900x900 with 30 Axes>"
      ]
     },
     "metadata": {
      "needs_background": "light"
     },
     "output_type": "display_data"
    }
   ],
   "source": [
    "sns.pairplot(df, dropna=True, kind=\"reg\")\n",
    "plt.show()"
   ]
  },
  {
   "cell_type": "code",
   "execution_count": 20,
   "metadata": {},
   "outputs": [
    {
     "data": {
      "text/plain": [
       "0      group B\n",
       "1      group C\n",
       "2      group B\n",
       "3      group A\n",
       "4      group C\n",
       "        ...   \n",
       "995    group E\n",
       "996    group C\n",
       "997    group C\n",
       "998    group D\n",
       "999    group D\n",
       "Name: race/ethnicity, Length: 1000, dtype: object"
      ]
     },
     "execution_count": 20,
     "metadata": {},
     "output_type": "execute_result"
    }
   ],
   "source": [
    "df['race/ethnicity']"
   ]
  },
  {
   "cell_type": "markdown",
   "metadata": {},
   "source": [
    "<h1>How well can the population read? (25 pts)</h1>\n",
    "<ul>\n",
    "<li>The test designers tell us that a score over 55% on the reading test is a good cutoff for being functionally literate. Given that, what percentage of test takers qualify as literate? (5 pts)\n",
    "<li>Assume that the test score results on this test reasonably represents the population. What is the expected mean score for the population at large, and what is the range in which you are 92% confident the population mean lies in? (15 pts)\n",
    "<li>Please demonstrate your 92% confidence from above in a graphical format (5pts)\n",
    "</ul>"
   ]
  },
  {
   "cell_type": "code",
   "execution_count": 25,
   "metadata": {},
   "outputs": [
    {
     "data": {
      "text/plain": [
       "0.824"
      ]
     },
     "execution_count": 25,
     "metadata": {},
     "output_type": "execute_result"
    }
   ],
   "source": [
    "#Reading\n",
    "literate = df[df['reading score percentage'] > 0.55]\n",
    "len(literate)/len(df)"
   ]
  },
  {
   "cell_type": "code",
   "execution_count": 26,
   "metadata": {},
   "outputs": [
    {
     "data": {
      "text/plain": [
       "0.6916900000000004"
      ]
     },
     "execution_count": 26,
     "metadata": {},
     "output_type": "execute_result"
    }
   ],
   "source": [
    "df['reading score percentage'].mean()"
   ]
  },
  {
   "cell_type": "code",
   "execution_count": 28,
   "metadata": {},
   "outputs": [],
   "source": [
    "def simulateNormal(mu=0, sigma=1, n=100, m=10000, ciLow=5, ciHi=95):\n",
    "    means = []\n",
    "    for j in range(m):\n",
    "        xs = np.random.normal(mu, sigma, n)\n",
    "        xbar = np.mean(xs)\n",
    "        means.append(xbar)\n",
    "    cdf = thinkstats2.Cdf(means)\n",
    "    ci = cdf.Percentile(ciLow), cdf.Percentile(ciHi)\n",
    "    muList = [mu] * m\n",
    "    stderr = mean_squared_error(means, muList, squared=False)\n",
    "    return cdf, ci, stderr"
   ]
  },
  {
   "cell_type": "code",
   "execution_count": 29,
   "metadata": {},
   "outputs": [
    {
     "name": "stdout",
     "output_type": "stream",
     "text": [
      "Standard Error: 0.004673333558786707\n",
      "Low CI: 0.6833844868651568\n",
      "Hi CI: 0.6997138374357146\n"
     ]
    },
    {
     "data": {
      "image/png": "[encoded data removed]",
      "text/plain": [
       "<Figure size 576x576 with 1 Axes>"
      ]
     },
     "metadata": {
      "needs_background": "light"
     },
     "output_type": "display_data"
    }
   ],
   "source": [
    "mu = df[\"reading score percentage\"].mean()\n",
    "sigma = df[\"reading score percentage\"].std()\n",
    "n = df[\"reading score percentage\"].count()\n",
    "\n",
    "cdf, ci, stderr = simulateNormal(mu=mu, sigma=sigma, n=n, m=1000, ciLow=4, ciHi=96)\n",
    "print(\"Standard Error:\", stderr)\n",
    "print(\"Low CI:\", ci[0])\n",
    "print(\"Hi CI:\", ci[1])\n",
    "thinkplot.Cdf(cdf)\n",
    "thinkplot.axvline(ci[0], color=\"red\")\n",
    "thinkplot.axvline(ci[1], color=\"red\")\n",
    "thinkplot.Config()"
   ]
  },
  {
   "cell_type": "markdown",
   "metadata": {},
   "source": [
    "<h2><li>82.4% of test takers in this sample qualify as literate\n",
    "<li> The expected mean of the population is 69.1% and we can be 92% confident that the mean will fall betweeen 68.3% and 69.9%\n"
   ]
  },
  {
   "cell_type": "markdown",
   "metadata": {},
   "source": [
    "<h1>What are the odds...(10 pts)</h1>\n",
    "\n",
    "M&M's are small candy-coated chocolates that come in a variety of colors.  \n",
    "Mars, Inc., which makes M&M's, changes the mixture of colors from time to time.\n",
    "In 1995, they introduced blue M&M's.  \n",
    "\n",
    "* In 1994, the color mix in a bag of plain M&M's was 30\\% Brown, 20\\% Yellow, 20\\% Red, 10\\% Green, 10\\% Orange, 10\\% Tan.  \n",
    "\n",
    "* In 1996, it was 24\\% Blue , 20\\% Green, 16\\% Orange, 14\\% Yellow, 13\\% Red, 13\\% Brown.\n",
    "\n",
    "Suppose a friend of mine has two bags of M&M's, and he tells me\n",
    "that one is from 1994 and one from 1996.  He won't tell me which is\n",
    "which, but he gives me one M&M from each bag.  One is yellow and\n",
    "one is green.  What is the probability that the yellow one came\n",
    "from the 1994 bag?\n",
    "\n",
    "Hint: The trick to this question is to define the hypotheses and the data carefully."
   ]
  },
  {
   "cell_type": "code",
   "execution_count": 41,
   "metadata": {},
   "outputs": [
    {
     "data": {
      "text/html": [
       "<div>\n",
       "<style scoped>\n",
       "    .dataframe tbody tr th:only-of-type {\n",
       "        vertical-align: middle;\n",
       "    }\n",
       "\n",
       "    .dataframe tbody tr th {\n",
       "        vertical-align: top;\n",
       "    }\n",
       "\n",
       "    .dataframe thead th {\n",
       "        text-align: right;\n",
       "    }\n",
       "</style>\n",
       "<table border=\"1\" class=\"dataframe\">\n",
       "  <thead>\n",
       "    <tr style=\"text-align: right;\">\n",
       "      <th></th>\n",
       "      <th>prior</th>\n",
       "    </tr>\n",
       "  </thead>\n",
       "  <tbody>\n",
       "    <tr>\n",
       "      <th>1994</th>\n",
       "      <td>1/6</td>\n",
       "    </tr>\n",
       "    <tr>\n",
       "      <th>1996</th>\n",
       "      <td>1/6</td>\n",
       "    </tr>\n",
       "  </tbody>\n",
       "</table>\n",
       "</div>"
      ],
      "text/plain": [
       "     prior\n",
       "1994   1/6\n",
       "1996   1/6"
      ]
     },
     "execution_count": 41,
     "metadata": {},
     "output_type": "execute_result"
    }
   ],
   "source": [
    "#Probability\n",
    "m = pd.DataFrame(index=[\"1994\", \"1996\"])\n",
    "m[\"prior\"] = fractions.Fraction(1,6)\n",
    "m"
   ]
  },
  {
   "cell_type": "code",
   "execution_count": 43,
   "metadata": {},
   "outputs": [
    {
     "data": {
      "text/html": [
       "<div>\n",
       "<style scoped>\n",
       "    .dataframe tbody tr th:only-of-type {\n",
       "        vertical-align: middle;\n",
       "    }\n",
       "\n",
       "    .dataframe tbody tr th {\n",
       "        vertical-align: top;\n",
       "    }\n",
       "\n",
       "    .dataframe thead th {\n",
       "        text-align: right;\n",
       "    }\n",
       "</style>\n",
       "<table border=\"1\" class=\"dataframe\">\n",
       "  <thead>\n",
       "    <tr style=\"text-align: right;\">\n",
       "      <th></th>\n",
       "      <th>prior</th>\n",
       "      <th>likelihood</th>\n",
       "    </tr>\n",
       "  </thead>\n",
       "  <tbody>\n",
       "    <tr>\n",
       "      <th>1994</th>\n",
       "      <td>1/6</td>\n",
       "      <td>1/5</td>\n",
       "    </tr>\n",
       "    <tr>\n",
       "      <th>1996</th>\n",
       "      <td>1/6</td>\n",
       "      <td>7/50</td>\n",
       "    </tr>\n",
       "  </tbody>\n",
       "</table>\n",
       "</div>"
      ],
      "text/plain": [
       "     prior likelihood\n",
       "1994   1/6        1/5\n",
       "1996   1/6       7/50"
      ]
     },
     "execution_count": 43,
     "metadata": {},
     "output_type": "execute_result"
    }
   ],
   "source": [
    "m[\"likelihood\"] = fractions.Fraction(20,100), fractions.Fraction(14,100)\n",
    "m"
   ]
  },
  {
   "cell_type": "code",
   "execution_count": 44,
   "metadata": {},
   "outputs": [
    {
     "data": {
      "text/html": [
       "<div>\n",
       "<style scoped>\n",
       "    .dataframe tbody tr th:only-of-type {\n",
       "        vertical-align: middle;\n",
       "    }\n",
       "\n",
       "    .dataframe tbody tr th {\n",
       "        vertical-align: top;\n",
       "    }\n",
       "\n",
       "    .dataframe thead th {\n",
       "        text-align: right;\n",
       "    }\n",
       "</style>\n",
       "<table border=\"1\" class=\"dataframe\">\n",
       "  <thead>\n",
       "    <tr style=\"text-align: right;\">\n",
       "      <th></th>\n",
       "      <th>prior</th>\n",
       "      <th>likelihood</th>\n",
       "      <th>unnorm</th>\n",
       "    </tr>\n",
       "  </thead>\n",
       "  <tbody>\n",
       "    <tr>\n",
       "      <th>1994</th>\n",
       "      <td>1/6</td>\n",
       "      <td>1/5</td>\n",
       "      <td>1/30</td>\n",
       "    </tr>\n",
       "    <tr>\n",
       "      <th>1996</th>\n",
       "      <td>1/6</td>\n",
       "      <td>7/50</td>\n",
       "      <td>7/300</td>\n",
       "    </tr>\n",
       "  </tbody>\n",
       "</table>\n",
       "</div>"
      ],
      "text/plain": [
       "     prior likelihood unnorm\n",
       "1994   1/6        1/5   1/30\n",
       "1996   1/6       7/50  7/300"
      ]
     },
     "execution_count": 44,
     "metadata": {},
     "output_type": "execute_result"
    }
   ],
   "source": [
    "m['unnorm'] = m['prior'] * m['likelihood']\n",
    "m\n"
   ]
  },
  {
   "cell_type": "code",
   "execution_count": 48,
   "metadata": {},
   "outputs": [
    {
     "name": "stdout",
     "output_type": "stream",
     "text": [
      "Unnorms: 17/300\n",
      "Direct: 1.0\n"
     ]
    }
   ],
   "source": [
    "prob_data = m['unnorm'].sum()\n",
    "print(\"Unnorms:\", prob_data)\n",
    "probDirect = (0.2+0.8)/(0.14+0.86) #The overall fail chances - 30 total failiures, 80 total students. \n",
    "print(\"Direct:\", probDirect)"
   ]
  },
  {
   "cell_type": "code",
   "execution_count": 49,
   "metadata": {},
   "outputs": [
    {
     "data": {
      "text/html": [
       "<div>\n",
       "<style scoped>\n",
       "    .dataframe tbody tr th:only-of-type {\n",
       "        vertical-align: middle;\n",
       "    }\n",
       "\n",
       "    .dataframe tbody tr th {\n",
       "        vertical-align: top;\n",
       "    }\n",
       "\n",
       "    .dataframe thead th {\n",
       "        text-align: right;\n",
       "    }\n",
       "</style>\n",
       "<table border=\"1\" class=\"dataframe\">\n",
       "  <thead>\n",
       "    <tr style=\"text-align: right;\">\n",
       "      <th></th>\n",
       "      <th>prior</th>\n",
       "      <th>likelihood</th>\n",
       "      <th>unnorm</th>\n",
       "      <th>posterior</th>\n",
       "    </tr>\n",
       "  </thead>\n",
       "  <tbody>\n",
       "    <tr>\n",
       "      <th>1994</th>\n",
       "      <td>1/6</td>\n",
       "      <td>1/5</td>\n",
       "      <td>1/30</td>\n",
       "      <td>10/17</td>\n",
       "    </tr>\n",
       "    <tr>\n",
       "      <th>1996</th>\n",
       "      <td>1/6</td>\n",
       "      <td>7/50</td>\n",
       "      <td>7/300</td>\n",
       "      <td>7/17</td>\n",
       "    </tr>\n",
       "  </tbody>\n",
       "</table>\n",
       "</div>"
      ],
      "text/plain": [
       "     prior likelihood unnorm posterior\n",
       "1994   1/6        1/5   1/30     10/17\n",
       "1996   1/6       7/50  7/300      7/17"
      ]
     },
     "execution_count": 49,
     "metadata": {},
     "output_type": "execute_result"
    }
   ],
   "source": [
    "m['posterior'] = m['unnorm'] / prob_data\n",
    "m"
   ]
  },
  {
   "cell_type": "markdown",
   "metadata": {},
   "source": [
    "<h2>The probability that the yellow M&M came from the 1994 bag is 10/17 (58.8%)."
   ]
  },
  {
   "cell_type": "markdown",
   "metadata": {},
   "source": [
    "<h1>911 Calls (10pts)</h1>\n",
    "<ul>\n",
    "<li>For this data, what is the mean time in between 911 calls. (Note: this will require some manipulation of data - Google \"pandas date\" and \"date difference in minutes\" as a starting point. It is not super complex, apx 2-4 lines or so) (5pts)\n",
    "<li>What is a good distribution to model this? (5pts)\n",
    "</ul>"
   ]
  },
  {
   "cell_type": "code",
   "execution_count": null,
   "metadata": {},
   "outputs": [
    {
     "data": {
      "text/html": [
       "<div>\n",
       "<style scoped>\n",
       "    .dataframe tbody tr th:only-of-type {\n",
       "        vertical-align: middle;\n",
       "    }\n",
       "\n",
       "    .dataframe tbody tr th {\n",
       "        vertical-align: top;\n",
       "    }\n",
       "\n",
       "    .dataframe thead th {\n",
       "        text-align: right;\n",
       "    }\n",
       "</style>\n",
       "<table border=\"1\" class=\"dataframe\">\n",
       "  <thead>\n",
       "    <tr style=\"text-align: right;\">\n",
       "      <th></th>\n",
       "      <th>zip</th>\n",
       "      <th>title</th>\n",
       "      <th>timeStamp</th>\n",
       "      <th>twp</th>\n",
       "    </tr>\n",
       "  </thead>\n",
       "  <tbody>\n",
       "    <tr>\n",
       "      <th>0</th>\n",
       "      <td>19525.0</td>\n",
       "      <td>EMS: BACK PAINS/INJURY</td>\n",
       "      <td>2015-12-10 17:10</td>\n",
       "      <td>NEW HANOVER</td>\n",
       "    </tr>\n",
       "    <tr>\n",
       "      <th>1</th>\n",
       "      <td>19446.0</td>\n",
       "      <td>EMS: DIABETIC EMERGENCY</td>\n",
       "      <td>2015-12-10 17:29</td>\n",
       "      <td>HATFIELD TOWNSHIP</td>\n",
       "    </tr>\n",
       "    <tr>\n",
       "      <th>2</th>\n",
       "      <td>19401.0</td>\n",
       "      <td>Fire: GAS-ODOR/LEAK</td>\n",
       "      <td>2015-12-10 14:39</td>\n",
       "      <td>NORRISTOWN</td>\n",
       "    </tr>\n",
       "    <tr>\n",
       "      <th>3</th>\n",
       "      <td>19401.0</td>\n",
       "      <td>EMS: CARDIAC EMERGENCY</td>\n",
       "      <td>2015-12-10 16:47</td>\n",
       "      <td>NORRISTOWN</td>\n",
       "    </tr>\n",
       "    <tr>\n",
       "      <th>4</th>\n",
       "      <td>NaN</td>\n",
       "      <td>EMS: DIZZINESS</td>\n",
       "      <td>2015-12-10 16:56</td>\n",
       "      <td>LOWER POTTSGROVE</td>\n",
       "    </tr>\n",
       "  </tbody>\n",
       "</table>\n",
       "</div>"
      ],
      "text/plain": [
       "       zip                    title         timeStamp                twp\n",
       "0  19525.0   EMS: BACK PAINS/INJURY  2015-12-10 17:10        NEW HANOVER\n",
       "1  19446.0  EMS: DIABETIC EMERGENCY  2015-12-10 17:29  HATFIELD TOWNSHIP\n",
       "2  19401.0      Fire: GAS-ODOR/LEAK  2015-12-10 14:39         NORRISTOWN\n",
       "3  19401.0   EMS: CARDIAC EMERGENCY  2015-12-10 16:47         NORRISTOWN\n",
       "4      NaN           EMS: DIZZINESS  2015-12-10 16:56   LOWER POTTSGROVE"
      ]
     },
     "execution_count": 72,
     "metadata": {},
     "output_type": "execute_result"
    }
   ],
   "source": [
    "#read file - Don't change this part. \n",
    "calls = \"\"\n",
    "with ZipFile('911_2.csv.zip') as myzip:\n",
    "    with myzip.open('911_2.csv') as myfile:\n",
    "       calls = pd.read_csv(myfile)\n",
    "calls.head()"
   ]
  },
  {
   "cell_type": "code",
   "execution_count": null,
   "metadata": {},
   "outputs": [
    {
     "ename": "TypeError",
     "evalue": "unsupported operand type(s) for +: 'getset_descriptor' and 'Timedelta'",
     "output_type": "error",
     "traceback": [
      "\u001b[1;31m---------------------------------------------------------------------------\u001b[0m",
      "\u001b[1;31mTypeError\u001b[0m                                 Traceback (most recent call last)",
      "\u001b[1;32m<ipython-input-82-8b13082f31e5>\u001b[0m in \u001b[0;36m<module>\u001b[1;34m\u001b[0m\n\u001b[0;32m      5\u001b[0m \u001b[0mcalls\u001b[0m\u001b[1;33m[\u001b[0m\u001b[1;34m'mins'\u001b[0m\u001b[1;33m]\u001b[0m \u001b[1;33m=\u001b[0m \u001b[1;36m0\u001b[0m \u001b[1;31m#initialize column to assign running time diff.\u001b[0m\u001b[1;33m\u001b[0m\u001b[1;33m\u001b[0m\u001b[0m\n\u001b[0;32m      6\u001b[0m \u001b[1;32mfor\u001b[0m \u001b[0mi\u001b[0m \u001b[1;32min\u001b[0m \u001b[0mrange\u001b[0m\u001b[1;33m(\u001b[0m\u001b[0mcalls\u001b[0m\u001b[1;33m.\u001b[0m\u001b[0mshape\u001b[0m\u001b[1;33m[\u001b[0m\u001b[1;36m0\u001b[0m\u001b[1;33m]\u001b[0m \u001b[1;33m-\u001b[0m \u001b[1;36m1\u001b[0m\u001b[1;33m)\u001b[0m\u001b[1;33m:\u001b[0m\u001b[1;33m\u001b[0m\u001b[1;33m\u001b[0m\u001b[0m\n\u001b[1;32m----> 7\u001b[1;33m     \u001b[0mcalls\u001b[0m\u001b[1;33m[\u001b[0m\u001b[1;34m'mins'\u001b[0m\u001b[1;33m]\u001b[0m\u001b[1;33m[\u001b[0m\u001b[0mi\u001b[0m\u001b[1;33m+\u001b[0m\u001b[1;36m1\u001b[0m\u001b[1;33m]\u001b[0m \u001b[1;33m=\u001b[0m \u001b[1;33m(\u001b[0m\u001b[0mdatetime\u001b[0m\u001b[1;33m.\u001b[0m\u001b[0mdatetime\u001b[0m\u001b[1;33m.\u001b[0m\u001b[0mminute\u001b[0m \u001b[1;33m+\u001b[0m \u001b[1;33m(\u001b[0m\u001b[0mcalls\u001b[0m\u001b[1;33m[\u001b[0m\u001b[1;34m'timeStamp'\u001b[0m\u001b[1;33m]\u001b[0m\u001b[1;33m[\u001b[0m\u001b[0mi\u001b[0m\u001b[1;33m+\u001b[0m\u001b[1;36m1\u001b[0m\u001b[1;33m]\u001b[0m \u001b[1;33m-\u001b[0m \u001b[0mcalls\u001b[0m\u001b[1;33m[\u001b[0m\u001b[1;34m'timeStamp'\u001b[0m\u001b[1;33m]\u001b[0m\u001b[1;33m[\u001b[0m\u001b[0mi\u001b[0m\u001b[1;33m]\u001b[0m\u001b[1;33m)\u001b[0m\u001b[1;33m)\u001b[0m\u001b[1;33m.\u001b[0m\u001b[0mtime\u001b[0m\u001b[1;33m(\u001b[0m\u001b[1;33m)\u001b[0m\u001b[1;33m\u001b[0m\u001b[1;33m\u001b[0m\u001b[0m\n\u001b[0m",
      "\u001b[1;31mTypeError\u001b[0m: unsupported operand type(s) for +: 'getset_descriptor' and 'Timedelta'"
     ]
    }
   ],
   "source": [
    "#Generate Time Between Calls\n",
    "import datetime\n",
    "import time\n",
    "calls['timeStamp'] =  pd.to_datetime(calls['timeStamp'] , format = \"%y/%m/%d %H:%M\") # transfrom string to datetime\n",
    "calls['mins'] = 0 #initialize column to assign running time diff.\n",
    "for i in range(calls.shape[0] - 1):\n",
    "    calls['mins'][i+1] = (datetime.datetime.minute + (calls['timeStamp'][i+1] - calls['timeStamp'][i])).time()"
   ]
  }
 ],
 "metadata": {
  "interpreter": {
   "hash": "ea39297c2a3b8433e0e3c4b620aff79df88eb4bda961dfb2311fbafd7efdbd77"
  },
  "kernelspec": {
   "display_name": "Python 3.8.11 64-bit ('base': conda)",
   "name": "python3"
  },
  "language_info": {
   "codemirror_mode": {
    "name": "ipython",
    "version": 3
   },
   "file_extension": ".py",
   "mimetype": "text/x-python",
   "name": "python",
   "nbconvert_exporter": "python",
   "pygments_lexer": "ipython3",
   "version": "3.8.8"
  },
  "orig_nbformat": 4
 },
 "nbformat": 4,
 "nbformat_minor": 2
}
